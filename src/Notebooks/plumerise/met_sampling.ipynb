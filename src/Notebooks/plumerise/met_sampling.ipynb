{
 "cells": [
  {
   "cell_type": "markdown",
   "id": "35f90f62-459d-4cd7-892d-906c4b9ad606",
   "metadata": {},
   "source": [
    "# Sampling Met Fields for Plume Rise Modeling\n",
    "\n",
    "In this notebook we sample relevand meteorological and pther surface parameteers needed for Plume Rise modeling at fire locations."
   ]
  },
  {
   "cell_type": "code",
   "execution_count": 1,
   "id": "a53ec128-ef9f-4ed4-8b2e-7d4f0d8730bd",
   "metadata": {},
   "outputs": [],
   "source": [
    "import numpy as np\n",
    "from pyobs import mcbef   as mb\n",
    "from pyobs import sampler as sp\n",
    "\n",
    "import os\n",
    "import xarray as xr\n",
    "\n",
    "import matplotlib.pyplot as plt\n",
    "%matplotlib inline "
   ]
  },
  {
   "cell_type": "markdown",
   "id": "22811174-285a-4c0e-960e-3c3b7a9d81ef",
   "metadata": {},
   "source": [
    "## McBEF Level 2 files"
   ]
  },
  {
   "cell_type": "code",
   "execution_count": 2,
   "id": "c2f64bbe-6336-4e4d-8ca6-ef28103b62d3",
   "metadata": {},
   "outputs": [],
   "source": [
    "f_dirn = '/css/viirs/data/Level2/VNP47MCBEF/2019/'"
   ]
  },
  {
   "cell_type": "markdown",
   "id": "4b44e513-0ef4-481f-bfa9-89830660e059",
   "metadata": {},
   "source": [
    "## Reanalysis Data Source: GEOS-IT "
   ]
  },
  {
   "cell_type": "code",
   "execution_count": 3,
   "id": "c6888562-670f-4050-83fe-8ae2bec684c7",
   "metadata": {},
   "outputs": [],
   "source": [
    "m_dirn = '/home/adasilva/opendap/geos-it/products/opendap/L576x361/'"
   ]
  },
  {
   "cell_type": "markdown",
   "id": "3487ff4b-a1dc-458c-972b-26cdb68c19eb",
   "metadata": {},
   "source": [
    "## Output Sampled files"
   ]
  },
  {
   "cell_type": "code",
   "execution_count": 4,
   "id": "cab80e79-8fdc-48d5-b29d-9eb09ecbb1b1",
   "metadata": {},
   "outputs": [],
   "source": [
    "s_dirn = './'"
   ]
  },
  {
   "cell_type": "markdown",
   "id": "f229caab-1225-4577-a099-2f7c38523754",
   "metadata": {},
   "source": [
    "## Sample Surface and Upper Variables for one day"
   ]
  },
  {
   "cell_type": "code",
   "execution_count": 5,
   "id": "79b8b422-eb33-48ea-8314-4f5ca9e14b53",
   "metadata": {},
   "outputs": [],
   "source": [
    "def sampleOneDay(day, f_dirn, m_dirn, s_dirn, ncfilen, force=False):\n",
    "    \"\"\"\n",
    "    Sample Met fields for a single day. This include some ancillary surface flux files\n",
    "    as well as uooer air variables.\n",
    "    \"\"\"\n",
    "    \n",
    "    f_fname = f_dirn + 'VNP47MCBEF.Stats.A2019%03d.0000_2400.Uniform_v_1_0_0.nc'%day\n",
    "    s_fname = s_dirn + ncfilen\n",
    "    \n",
    "    # Do not overwrite output file unless it is forced\n",
    "    if os.path.exists(s_fname) and not force:\n",
    "        return\n",
    "    \n",
    "    if not os.path.exists(f_fname):\n",
    "        print('[x] Missing Input file', f_fname)\n",
    "        return\n",
    "        \n",
    "    f = mb.MCBEF(f_fname)\n",
    "    \n",
    "    # Surface Variables\n",
    "    collection = m_dirn+'flx_tavg_1hr_glo_L576x361_slv'\n",
    "    Variables = ['PBLH','USTAR','TSH','BSTAR','EFLUX','HFLUX','RHOA']                                                      \n",
    "    sfc = f.sample(collection,Variables=Variables)\n",
    "    \n",
    "    # Upper air variables\n",
    "    collection = m_dirn+'asm_inst_3hr_glo_L576x361_v72'\n",
    "    Variables =  [ 'U', 'V','T', 'H','QV', 'DELP', 'PS', 'PHIS']\n",
    "    met = f.sample(collection,Variables=Variables)\n",
    "    \n",
    "    # Concatenate and write out\n",
    "    #xr.concat([sfc,met],'time').to_netcdf(s_fname)\n",
    "    xr.merge([sfc,met]).to_netcdf(s_fname)\n",
    "        \n",
    "    print('[ ] Wrote',ncfilen)\n"
   ]
  },
  {
   "cell_type": "markdown",
   "id": "3fc559ec-9e02-4c3d-910d-c81ea8778761",
   "metadata": {},
   "source": [
    "## Loop over many days..."
   ]
  },
  {
   "cell_type": "code",
   "execution_count": 6,
   "id": "7dbab0ef-9fac-413b-b7d4-7eb4a252af04",
   "metadata": {},
   "outputs": [
    {
     "name": "stdout",
     "output_type": "stream",
     "text": [
      "[ ] Wrote VNP47MCBEF.Met.A2019333.nc\n",
      "[ ] Wrote VNP47MCBEF.Met.A2019334.nc\n",
      "[ ] Wrote VNP47MCBEF.Met.A2019335.nc\n",
      "[ ] Wrote VNP47MCBEF.Met.A2019336.nc\n",
      "[ ] Wrote VNP47MCBEF.Met.A2019337.nc\n",
      "[ ] Wrote VNP47MCBEF.Met.A2019338.nc\n",
      "[ ] Wrote VNP47MCBEF.Met.A2019339.nc\n",
      "[ ] Wrote VNP47MCBEF.Met.A2019340.nc\n",
      "[ ] Wrote VNP47MCBEF.Met.A2019341.nc\n",
      "[ ] Wrote VNP47MCBEF.Met.A2019342.nc\n",
      "[ ] Wrote VNP47MCBEF.Met.A2019343.nc\n",
      "[ ] Wrote VNP47MCBEF.Met.A2019344.nc\n",
      "[ ] Wrote VNP47MCBEF.Met.A2019345.nc\n",
      "[ ] Wrote VNP47MCBEF.Met.A2019346.nc\n",
      "[ ] Wrote VNP47MCBEF.Met.A2019347.nc\n",
      "[ ] Wrote VNP47MCBEF.Met.A2019348.nc\n",
      "[ ] Wrote VNP47MCBEF.Met.A2019349.nc\n",
      "[ ] Wrote VNP47MCBEF.Met.A2019350.nc\n",
      "[ ] Wrote VNP47MCBEF.Met.A2019351.nc\n",
      "[ ] Wrote VNP47MCBEF.Met.A2019352.nc\n",
      "[ ] Wrote VNP47MCBEF.Met.A2019353.nc\n",
      "[ ] Wrote VNP47MCBEF.Met.A2019354.nc\n",
      "[ ] Wrote VNP47MCBEF.Met.A2019355.nc\n",
      "[ ] Wrote VNP47MCBEF.Met.A2019356.nc\n",
      "[ ] Wrote VNP47MCBEF.Met.A2019357.nc\n",
      "[ ] Wrote VNP47MCBEF.Met.A2019358.nc\n",
      "[ ] Wrote VNP47MCBEF.Met.A2019359.nc\n",
      "[ ] Wrote VNP47MCBEF.Met.A2019360.nc\n",
      "[ ] Wrote VNP47MCBEF.Met.A2019361.nc\n",
      "[ ] Wrote VNP47MCBEF.Met.A2019362.nc\n",
      "[ ] Wrote VNP47MCBEF.Met.A2019363.nc\n",
      "[ ] Wrote VNP47MCBEF.Met.A2019364.nc\n",
      "[ ] Wrote VNP47MCBEF.Met.A2019365.nc\n"
     ]
    }
   ],
   "source": [
    "for day in range(1,366):\n",
    "    ncfilen = 'VNP47MCBEF.Met.A2019%03d.nc'%day\n",
    "    sampleOneDay(day,f_dirn,m_dirn,s_dirn,ncfilen)"
   ]
  },
  {
   "cell_type": "code",
   "execution_count": null,
   "id": "35277582-2f78-4d3b-bd2c-77df414dadc6",
   "metadata": {},
   "outputs": [],
   "source": []
  }
 ],
 "metadata": {
  "kernelspec": {
   "display_name": "Python [conda env:.conda-xesmf_env]",
   "language": "python",
   "name": "conda-env-.conda-xesmf_env-py"
  },
  "language_info": {
   "codemirror_mode": {
    "name": "ipython",
    "version": 3
   },
   "file_extension": ".py",
   "mimetype": "text/x-python",
   "name": "python",
   "nbconvert_exporter": "python",
   "pygments_lexer": "ipython3",
   "version": "3.11.6"
  }
 },
 "nbformat": 4,
 "nbformat_minor": 5
}
