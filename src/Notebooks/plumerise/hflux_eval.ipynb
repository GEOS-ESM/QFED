{
 "cells": [
  {
   "cell_type": "markdown",
   "id": "9866eca7-2370-44ab-b34b-014eff4c2e67",
   "metadata": {},
   "source": [
    "# Comparison of McBEF vs Classic Biome Dependent Heat Fluxes\n",
    "\n",
    "This notebook compares the inputs\n",
    "* McBEF\n",
    "* Classic Freitas PR model assumptions implemented in plumerise.bioma\n",
    "Notice that flaming heatfluxes and the fraction of flaming/smoldering fires are prescribed as a function of biome type."
   ]
  },
  {
   "cell_type": "code",
   "execution_count": 1,
   "id": "5bf695b6-0f97-4f02-a662-cb7e3adfcfd5",
   "metadata": {},
   "outputs": [],
   "source": [
    "import os\n",
    "import sys\n",
    "\n",
    "#import importlib\n",
    "#importlib.reload(kde)\n",
    "\n",
    "from IPython.display import display, Markdown\n",
    "\n",
    "import numpy as np\n",
    "import xarray as xr\n",
    "from datetime import datetime, timedelta\n",
    "\n",
    "from pyobs     import kde\n",
    "from plumerise import bioma as bm\n",
    "\n",
    "import matplotlib.pyplot as plt\n",
    "%matplotlib inline \n",
    "\n",
    "lb, mode, ub = (0, 1, 2)  # indices for McBEF stats\n"
   ]
  },
  {
   "cell_type": "markdown",
   "id": "d2db2d98-6dd5-4753-a33f-f7cb46f81bdd",
   "metadata": {},
   "source": [
    "## Load data"
   ]
  },
  {
   "cell_type": "code",
   "execution_count": 2,
   "id": "44fe7c2c-02bb-43f2-81c0-c7fde8dcf034",
   "metadata": {},
   "outputs": [],
   "source": [
    "def getFiresMetOneDay(day,Verbose=False):\n",
    "    \"\"\"\n",
    "    Ingests McBEF retrievals and sampled meteorology for one day.\n",
    "    \"\"\"\n",
    "    \n",
    "    \n",
    "    l2_dirn = '/css/viirs/data/Level2/VNP47MCBEF/2019/'\n",
    "    f_fname = l2_dirn + 'VNP47MCBEF.Stats.A2019%03d.0000_2400.Uniform_v_1_0_0.nc'%day\n",
    "    \n",
    "    f = xr.open_dataset(f_fname) # fire property statistics\n",
    "    \n",
    "    if Verbose:\n",
    "        display(Markdown(\"**FIRE PROPERTIES**\"),f)\n",
    "        \n",
    "    # Biome Types using FILDA provided vegetation types\n",
    "    # -------------------------------------------------\n",
    "    bf = bm.getAggregateBiome ( f.FP_Land_Type, f.FP_Latitude)\n",
    "                                 \n",
    "    # Classic (biome-dependent heat fluxes)\n",
    "    # ------------------------------------\n",
    "    (cPower_f, cPower_s, cHeatFlux_f, cArea_f) = bm.getHeatFlux ( bf, f.Power[:,mode] ) # using FILDA biome type\n",
    "                                                                      \n",
    "    return (f, bf, cPower_f, cPower_s, cHeatFlux_f, cArea_f)\n",
    "                           \n",
    "                           "
   ]
  },
  {
   "cell_type": "markdown",
   "id": "e6258481-bc92-42c1-837c-4eb1ec3cce70",
   "metadata": {},
   "source": [
    "## Compute Mean KDE of Heat FLuxes, Areas, Power"
   ]
  },
  {
   "cell_type": "code",
   "execution_count": 3,
   "id": "0b5556b7-5205-42cc-892b-a28ebd7b743c",
   "metadata": {},
   "outputs": [],
   "source": [
    "def prop_KDE(b,biome,X,P,N=256,range=None):\n",
    "    \"\"\"\n",
    "    Accumulates KDE of X.\n",
    "    \"\"\"\n",
    "    \n",
    "    if len(X.shape) == 2:\n",
    "        P_ = np.zeros((3,N))\n",
    "        I = (b==biome)&(np.isnan(X[:,1])==False)\n",
    "        bins, P_[0,:] = kde.calc_kde1d(X[I,0],range=range)\n",
    "        bins, P_[1,:] = kde.calc_kde1d(X[I,1],range=range)\n",
    "        bins, P_[2,:] = kde.calc_kde1d(X[I,2],range=range)\n",
    "    else:\n",
    "        P_ = np.zeros(N)\n",
    "        I = (b==biome)&(np.isnan(X)==False)\n",
    "        bins, P_ = kde.calc_kde1d(X[I],N=N,range=range)\n",
    "     \n",
    "    P += P_                \n",
    "                      \n",
    "    return (bins,P)\n",
    "                     "
   ]
  },
  {
   "cell_type": "code",
   "execution_count": 4,
   "id": "2130f3df-34ad-416c-bda5-e961c74621d8",
   "metadata": {},
   "outputs": [
    {
     "name": "stdout",
     "output_type": "stream",
     "text": [
      "[ ] Day  2019-10-31 00:00:00\r"
     ]
    }
   ],
   "source": [
    "N = 256  # number of KDE bins\n",
    "\n",
    "# Mean KDE\n",
    "# --------\n",
    "fHEATFLUX_F, cHEATFLUX_F = np.zeros((4,3,N)), np.zeros((4,3,N))\n",
    "fHEATFLUX_S = np.zeros((4,3,N))\n",
    "fAREA_F,         cAREA_F = np.zeros((4,3,N)), np.zeros((4,3,N))\n",
    "fPOWER_F,       cPOWER_F = np.zeros((4,3,N)), np.zeros((4,N))\n",
    "\n",
    "# Loop over days...\n",
    "ndays = 0\n",
    "oneday = timedelta(seconds=24*60*60)\n",
    "date0 = datetime(2018,12,31)\n",
    "for day in range(182,305):\n",
    "    \n",
    "    print('[ ] Day ',date0+day*oneday,end='\\r')\n",
    "    \n",
    "    ndays += 1\n",
    "    \n",
    "    # Load fires and met fields\n",
    "    # -------------------------\n",
    "    (f, bf, cPower_f, cPower_s, cHeatFlux_f, cArea_f)  = getFiresMetOneDay(day,Verbose=False)\n",
    "    \n",
    "    # Estimate KDE\n",
    "    # ------------\n",
    "    for b in range(4):\n",
    "        bins_HF, fHEATFLUX_F[b] = prop_KDE(bf, b+1, 1000*f.HeatFlux_f, fHEATFLUX_F[b], range=(0,300))\n",
    "        #bins_HF, cHEATFLUX_F[b] = prop_KDE(bf, b+1,  cHeatFlux_f, cHEATFLUX_F[b], range=(0,300)) \n",
    "        bins_HS, fHEATFLUX_S[b] = prop_KDE(bf, b+1, 1000*f.HeatFlux_s, fHEATFLUX_S[b], range=(0,150))\n",
    "        #bins_HS, cHEATFLUX_S[b] = prop_KDE(bf, b+1,  cHeatFlux_s, cHEATFLUX_S[b], range=(0,150)) \n",
    "        \n",
    "        bins_A, fAREA_F[b] = prop_KDE(bf, b+1, f.Area_f, fAREA_F[b], range=(0,500))\n",
    "        bins_A, cAREA_F[b] = prop_KDE(bf, b+1,  cArea_f, cAREA_F[b], range=(0,500))\n",
    "\n",
    "        bins_P, fPOWER_F[b] = prop_KDE(bf, b+1, f.Power_f, fPOWER_F[b], range=(0,20))\n",
    "        bins_P, cPOWER_F[b] = prop_KDE(bf, b+1,  cPower_f, cPOWER_F[b], range=(0,20))\n",
    "      \n",
    "    # Normalize\n",
    "    # ---------\n",
    "    for P in [ fHEATFLUX_F, fHEATFLUX_S, \n",
    "               fAREA_F,  cAREA_F,\n",
    "               fPOWER_F, cPOWER_F ]:\n",
    "        P = P / ndays\n",
    "    \n",
    "    # Save it for later\n",
    "    # -----------------\n",
    "    f_npz = './VNP47MCBEF.KDE.npz'\n",
    "    np.savez(f_npz,\n",
    "             bins_HF=bins_HF, bins_A=bins_A, bins_P=bins_P,\n",
    "             fHEATFLUX_F=fHEATFLUX_F, \n",
    "             fHEATFLUX_S=fHEATFLUX_S, \n",
    "             fAREA_F=fAREA_F,  \n",
    "             cAREA_F=cAREA_F,\n",
    "             fPOWER_F=fPOWER_F,\n",
    "             cPOWER_F=cPOWER_F\n",
    "            )\n",
    "             \n",
    "    "
   ]
  },
  {
   "cell_type": "markdown",
   "id": "19b76ca4-d114-466d-b050-b2019af0af7d",
   "metadata": {},
   "source": [
    "## Plotting Mean KDEs for each Aggregated Biome\n",
    "Next we plot the mean KDEs for each biome"
   ]
  },
  {
   "cell_type": "code",
   "execution_count": 9,
   "id": "d3d6e3f1-9032-4e5d-abbc-ef69baa600e7",
   "metadata": {},
   "outputs": [],
   "source": [
    "f_npz = './VNP47MCBEF.KDE.npz'\n",
    "f = np.load(f_npz)  # retrieve KDEs from disk\n",
    "for v_ in f.keys():\n",
    "    setattr(sys.modules[__name__], v_, f[v_])"
   ]
  },
  {
   "cell_type": "markdown",
   "id": "91295066-0d99-411c-97b1-c67a8d84e5af",
   "metadata": {
    "tags": []
   },
   "source": [
    "### Heat Fluxes"
   ]
  },
  {
   "cell_type": "code",
   "execution_count": 10,
   "id": "7e8f6f1f-a1d0-4618-8225-2907d7927460",
   "metadata": {},
   "outputs": [],
   "source": [
    "def plot_HF(biome,bins,P,title,xlabel,range=None):\n",
    "\n",
    "    print(bins_HF.shape,P.shape)\n",
    "    \n",
    "    cmin = bm.HEAT_FLUX_MIN[biome-1]\n",
    "    cmax = bm.HEAT_FLUX_MAX[biome-1]\n",
    "    cmod = (cmin+cmax)/2\n",
    "    \n",
    "    pmax = P.max()\n",
    "\n",
    "    plt.plot(bins,P[0],'b--',label='McBEF (lower)')\n",
    "    plt.plot(bins,P[1],'b', label='McBEF (mode)')\n",
    "    plt.plot(bins,P[2],'b--',label='McBEF (upper)')\n",
    "    \n",
    "    plt.plot([cmin,cmin],[0,pmax],'r--',label='Classic (lower)')\n",
    "    plt.plot([cmod,cmod],[0,pmax],'r',  label='Classic (mode)')\n",
    "    plt.plot([cmax,cmax],[0,pmax],'r--',label='Classic (upper)')\n",
    "    \n",
    "    plt.grid(), plt.xlabel(xlabel),plt.ylabel('p.d.f'),plt.title(title)\n",
    "    plt.legend(loc='upper right')"
   ]
  },
  {
   "cell_type": "code",
   "execution_count": 11,
   "id": "88aab18f-4738-40fb-b81f-f9e8ed37cc31",
   "metadata": {},
   "outputs": [
    {
     "name": "stdout",
     "output_type": "stream",
     "text": [
      "(256,) (3, 256)\n"
     ]
    },
    {
     "data": {
      "image/png": "[encoded data removed]",
      "text/plain": [
       "<Figure size 1000x1000 with 1 Axes>"
      ]
     },
     "metadata": {},
     "output_type": "display_data"
    }
   ],
   "source": [
    "plt.figure(figsize=(10,10)) \n",
    "plt.subplot(221)\n",
    "plot_HF(bm.TROPICAL,bins_HF,fHEATFLUX_F[0],'fTropical Flaming Heat Flux', r'Heat Flux (kW/m$^2$)',range=(0,128))"
   ]
  },
  {
   "cell_type": "code",
   "execution_count": 8,
   "id": "e7f05ee3-d97b-4d1b-876a-55a4297f1c6d",
   "metadata": {},
   "outputs": [
    {
     "name": "stdout",
     "output_type": "stream",
     "text": [
      "(256,) (4, 3, 256)\n"
     ]
    },
    {
     "ename": "ValueError",
     "evalue": "x and y must have same first dimension, but have shapes (256,) and (3, 256)",
     "output_type": "error",
     "traceback": [
      "\u001b[0;31m---------------------------------------------------------------------------\u001b[0m",
      "\u001b[0;31mValueError\u001b[0m                                Traceback (most recent call last)",
      "Cell \u001b[0;32mIn[8], line 3\u001b[0m\n\u001b[1;32m      1\u001b[0m plt\u001b[38;5;241m.\u001b[39mfigure(figsize\u001b[38;5;241m=\u001b[39m(\u001b[38;5;241m10\u001b[39m,\u001b[38;5;241m10\u001b[39m))\n\u001b[1;32m      2\u001b[0m plt\u001b[38;5;241m.\u001b[39msubplot(\u001b[38;5;241m221\u001b[39m)\n\u001b[0;32m----> 3\u001b[0m \u001b[43mplot_HF\u001b[49m\u001b[43m(\u001b[49m\u001b[43mbm\u001b[49m\u001b[38;5;241;43m.\u001b[39;49m\u001b[43mTROPICAL\u001b[49m\u001b[43m,\u001b[49m\u001b[43mbins_HF\u001b[49m\u001b[43m,\u001b[49m\u001b[43mfHEATFLUX_F\u001b[49m\u001b[43m,\u001b[49m\u001b[38;5;124;43m'\u001b[39;49m\u001b[38;5;124;43mfTropical Flaming Heat Flux\u001b[39;49m\u001b[38;5;124;43m'\u001b[39;49m\u001b[43m,\u001b[49m\u001b[43m \u001b[49m\u001b[38;5;124;43mr\u001b[39;49m\u001b[38;5;124;43m'\u001b[39;49m\u001b[38;5;124;43mHeat Flux (kW/m$^2$)\u001b[39;49m\u001b[38;5;124;43m'\u001b[39;49m\u001b[43m,\u001b[49m\u001b[38;5;28;43mrange\u001b[39;49m\u001b[38;5;241;43m=\u001b[39;49m\u001b[43m(\u001b[49m\u001b[38;5;241;43m0\u001b[39;49m\u001b[43m,\u001b[49m\u001b[38;5;241;43m128\u001b[39;49m\u001b[43m)\u001b[49m\u001b[43m)\u001b[49m\n\u001b[1;32m      4\u001b[0m plt\u001b[38;5;241m.\u001b[39msubplot(\u001b[38;5;241m222\u001b[39m)\n\u001b[1;32m      5\u001b[0m plot_HF(bm\u001b[38;5;241m.\u001b[39mEXTRA_TROPICAL,\u001b[38;5;124m'\u001b[39m\u001b[38;5;124mExtra-Tropical Heat Flux\u001b[39m\u001b[38;5;124m'\u001b[39m, \u001b[38;5;124mr\u001b[39m\u001b[38;5;124m'\u001b[39m\u001b[38;5;124mFlaming Heat Flux (kW/m$^2$)\u001b[39m\u001b[38;5;124m'\u001b[39m,\u001b[38;5;28mrange\u001b[39m\u001b[38;5;241m=\u001b[39m(\u001b[38;5;241m0\u001b[39m,\u001b[38;5;241m200\u001b[39m))\n",
      "Cell \u001b[0;32mIn[6], line 11\u001b[0m, in \u001b[0;36mplot_HF\u001b[0;34m(biome, bins, P, title, xlabel, range)\u001b[0m\n\u001b[1;32m      7\u001b[0m cmod \u001b[38;5;241m=\u001b[39m (cmin\u001b[38;5;241m+\u001b[39mcmax)\u001b[38;5;241m/\u001b[39m\u001b[38;5;241m2\u001b[39m\n\u001b[1;32m      9\u001b[0m pmax \u001b[38;5;241m=\u001b[39m P\u001b[38;5;241m.\u001b[39mmax()\n\u001b[0;32m---> 11\u001b[0m \u001b[43mplt\u001b[49m\u001b[38;5;241;43m.\u001b[39;49m\u001b[43mplot\u001b[49m\u001b[43m(\u001b[49m\u001b[43mbins\u001b[49m\u001b[43m,\u001b[49m\u001b[43mP\u001b[49m\u001b[43m[\u001b[49m\u001b[38;5;241;43m0\u001b[39;49m\u001b[43m]\u001b[49m\u001b[43m,\u001b[49m\u001b[38;5;124;43m'\u001b[39;49m\u001b[38;5;124;43mb--\u001b[39;49m\u001b[38;5;124;43m'\u001b[39;49m\u001b[43m,\u001b[49m\u001b[43mlabel\u001b[49m\u001b[38;5;241;43m=\u001b[39;49m\u001b[38;5;124;43m'\u001b[39;49m\u001b[38;5;124;43mMcBEF (lower)\u001b[39;49m\u001b[38;5;124;43m'\u001b[39;49m\u001b[43m)\u001b[49m\n\u001b[1;32m     12\u001b[0m plt\u001b[38;5;241m.\u001b[39mplot(bins,P[\u001b[38;5;241m1\u001b[39m],\u001b[38;5;124m'\u001b[39m\u001b[38;5;124mb\u001b[39m\u001b[38;5;124m'\u001b[39m, label\u001b[38;5;241m=\u001b[39m\u001b[38;5;124m'\u001b[39m\u001b[38;5;124mMcBEF (mode)\u001b[39m\u001b[38;5;124m'\u001b[39m)\n\u001b[1;32m     13\u001b[0m plt\u001b[38;5;241m.\u001b[39mplot(bins,P[\u001b[38;5;241m2\u001b[39m],\u001b[38;5;124m'\u001b[39m\u001b[38;5;124mb--\u001b[39m\u001b[38;5;124m'\u001b[39m,label\u001b[38;5;241m=\u001b[39m\u001b[38;5;124m'\u001b[39m\u001b[38;5;124mMcBEF (upper)\u001b[39m\u001b[38;5;124m'\u001b[39m)\n",
      "File \u001b[0;32m~/.conda/envs/xesmf_env/lib/python3.11/site-packages/matplotlib/pyplot.py:3575\u001b[0m, in \u001b[0;36mplot\u001b[0;34m(scalex, scaley, data, *args, **kwargs)\u001b[0m\n\u001b[1;32m   3567\u001b[0m \u001b[38;5;129m@_copy_docstring_and_deprecators\u001b[39m(Axes\u001b[38;5;241m.\u001b[39mplot)\n\u001b[1;32m   3568\u001b[0m \u001b[38;5;28;01mdef\u001b[39;00m \u001b[38;5;21mplot\u001b[39m(\n\u001b[1;32m   3569\u001b[0m     \u001b[38;5;241m*\u001b[39margs: \u001b[38;5;28mfloat\u001b[39m \u001b[38;5;241m|\u001b[39m ArrayLike \u001b[38;5;241m|\u001b[39m \u001b[38;5;28mstr\u001b[39m,\n\u001b[0;32m   (...)\u001b[0m\n\u001b[1;32m   3573\u001b[0m     \u001b[38;5;241m*\u001b[39m\u001b[38;5;241m*\u001b[39mkwargs,\n\u001b[1;32m   3574\u001b[0m ) \u001b[38;5;241m-\u001b[39m\u001b[38;5;241m>\u001b[39m \u001b[38;5;28mlist\u001b[39m[Line2D]:\n\u001b[0;32m-> 3575\u001b[0m     \u001b[38;5;28;01mreturn\u001b[39;00m \u001b[43mgca\u001b[49m\u001b[43m(\u001b[49m\u001b[43m)\u001b[49m\u001b[38;5;241;43m.\u001b[39;49m\u001b[43mplot\u001b[49m\u001b[43m(\u001b[49m\n\u001b[1;32m   3576\u001b[0m \u001b[43m        \u001b[49m\u001b[38;5;241;43m*\u001b[39;49m\u001b[43margs\u001b[49m\u001b[43m,\u001b[49m\n\u001b[1;32m   3577\u001b[0m \u001b[43m        \u001b[49m\u001b[43mscalex\u001b[49m\u001b[38;5;241;43m=\u001b[39;49m\u001b[43mscalex\u001b[49m\u001b[43m,\u001b[49m\n\u001b[1;32m   3578\u001b[0m \u001b[43m        \u001b[49m\u001b[43mscaley\u001b[49m\u001b[38;5;241;43m=\u001b[39;49m\u001b[43mscaley\u001b[49m\u001b[43m,\u001b[49m\n\u001b[1;32m   3579\u001b[0m \u001b[43m        \u001b[49m\u001b[38;5;241;43m*\u001b[39;49m\u001b[38;5;241;43m*\u001b[39;49m\u001b[43m(\u001b[49m\u001b[43m{\u001b[49m\u001b[38;5;124;43m\"\u001b[39;49m\u001b[38;5;124;43mdata\u001b[39;49m\u001b[38;5;124;43m\"\u001b[39;49m\u001b[43m:\u001b[49m\u001b[43m \u001b[49m\u001b[43mdata\u001b[49m\u001b[43m}\u001b[49m\u001b[43m \u001b[49m\u001b[38;5;28;43;01mif\u001b[39;49;00m\u001b[43m \u001b[49m\u001b[43mdata\u001b[49m\u001b[43m \u001b[49m\u001b[38;5;129;43;01mis\u001b[39;49;00m\u001b[43m \u001b[49m\u001b[38;5;129;43;01mnot\u001b[39;49;00m\u001b[43m \u001b[49m\u001b[38;5;28;43;01mNone\u001b[39;49;00m\u001b[43m \u001b[49m\u001b[38;5;28;43;01melse\u001b[39;49;00m\u001b[43m \u001b[49m\u001b[43m{\u001b[49m\u001b[43m}\u001b[49m\u001b[43m)\u001b[49m\u001b[43m,\u001b[49m\n\u001b[1;32m   3580\u001b[0m \u001b[43m        \u001b[49m\u001b[38;5;241;43m*\u001b[39;49m\u001b[38;5;241;43m*\u001b[39;49m\u001b[43mkwargs\u001b[49m\u001b[43m,\u001b[49m\n\u001b[1;32m   3581\u001b[0m \u001b[43m    \u001b[49m\u001b[43m)\u001b[49m\n",
      "File \u001b[0;32m~/.conda/envs/xesmf_env/lib/python3.11/site-packages/matplotlib/axes/_axes.py:1721\u001b[0m, in \u001b[0;36mAxes.plot\u001b[0;34m(self, scalex, scaley, data, *args, **kwargs)\u001b[0m\n\u001b[1;32m   1478\u001b[0m \u001b[38;5;250m\u001b[39m\u001b[38;5;124;03m\"\"\"\u001b[39;00m\n\u001b[1;32m   1479\u001b[0m \u001b[38;5;124;03mPlot y versus x as lines and/or markers.\u001b[39;00m\n\u001b[1;32m   1480\u001b[0m \n\u001b[0;32m   (...)\u001b[0m\n\u001b[1;32m   1718\u001b[0m \u001b[38;5;124;03m(``'green'``) or hex strings (``'#008000'``).\u001b[39;00m\n\u001b[1;32m   1719\u001b[0m \u001b[38;5;124;03m\"\"\"\u001b[39;00m\n\u001b[1;32m   1720\u001b[0m kwargs \u001b[38;5;241m=\u001b[39m cbook\u001b[38;5;241m.\u001b[39mnormalize_kwargs(kwargs, mlines\u001b[38;5;241m.\u001b[39mLine2D)\n\u001b[0;32m-> 1721\u001b[0m lines \u001b[38;5;241m=\u001b[39m [\u001b[38;5;241m*\u001b[39m\u001b[38;5;28mself\u001b[39m\u001b[38;5;241m.\u001b[39m_get_lines(\u001b[38;5;28mself\u001b[39m, \u001b[38;5;241m*\u001b[39margs, data\u001b[38;5;241m=\u001b[39mdata, \u001b[38;5;241m*\u001b[39m\u001b[38;5;241m*\u001b[39mkwargs)]\n\u001b[1;32m   1722\u001b[0m \u001b[38;5;28;01mfor\u001b[39;00m line \u001b[38;5;129;01min\u001b[39;00m lines:\n\u001b[1;32m   1723\u001b[0m     \u001b[38;5;28mself\u001b[39m\u001b[38;5;241m.\u001b[39madd_line(line)\n",
      "File \u001b[0;32m~/.conda/envs/xesmf_env/lib/python3.11/site-packages/matplotlib/axes/_base.py:303\u001b[0m, in \u001b[0;36m_process_plot_var_args.__call__\u001b[0;34m(self, axes, data, *args, **kwargs)\u001b[0m\n\u001b[1;32m    301\u001b[0m     this \u001b[38;5;241m+\u001b[39m\u001b[38;5;241m=\u001b[39m args[\u001b[38;5;241m0\u001b[39m],\n\u001b[1;32m    302\u001b[0m     args \u001b[38;5;241m=\u001b[39m args[\u001b[38;5;241m1\u001b[39m:]\n\u001b[0;32m--> 303\u001b[0m \u001b[38;5;28;01myield from\u001b[39;00m \u001b[38;5;28;43mself\u001b[39;49m\u001b[38;5;241;43m.\u001b[39;49m\u001b[43m_plot_args\u001b[49m\u001b[43m(\u001b[49m\n\u001b[1;32m    304\u001b[0m \u001b[43m    \u001b[49m\u001b[43maxes\u001b[49m\u001b[43m,\u001b[49m\u001b[43m \u001b[49m\u001b[43mthis\u001b[49m\u001b[43m,\u001b[49m\u001b[43m \u001b[49m\u001b[43mkwargs\u001b[49m\u001b[43m,\u001b[49m\u001b[43m \u001b[49m\u001b[43mambiguous_fmt_datakey\u001b[49m\u001b[38;5;241;43m=\u001b[39;49m\u001b[43mambiguous_fmt_datakey\u001b[49m\u001b[43m)\u001b[49m\n",
      "File \u001b[0;32m~/.conda/envs/xesmf_env/lib/python3.11/site-packages/matplotlib/axes/_base.py:499\u001b[0m, in \u001b[0;36m_process_plot_var_args._plot_args\u001b[0;34m(self, axes, tup, kwargs, return_kwargs, ambiguous_fmt_datakey)\u001b[0m\n\u001b[1;32m    496\u001b[0m     axes\u001b[38;5;241m.\u001b[39myaxis\u001b[38;5;241m.\u001b[39mupdate_units(y)\n\u001b[1;32m    498\u001b[0m \u001b[38;5;28;01mif\u001b[39;00m x\u001b[38;5;241m.\u001b[39mshape[\u001b[38;5;241m0\u001b[39m] \u001b[38;5;241m!=\u001b[39m y\u001b[38;5;241m.\u001b[39mshape[\u001b[38;5;241m0\u001b[39m]:\n\u001b[0;32m--> 499\u001b[0m     \u001b[38;5;28;01mraise\u001b[39;00m \u001b[38;5;167;01mValueError\u001b[39;00m(\u001b[38;5;124mf\u001b[39m\u001b[38;5;124m\"\u001b[39m\u001b[38;5;124mx and y must have same first dimension, but \u001b[39m\u001b[38;5;124m\"\u001b[39m\n\u001b[1;32m    500\u001b[0m                      \u001b[38;5;124mf\u001b[39m\u001b[38;5;124m\"\u001b[39m\u001b[38;5;124mhave shapes \u001b[39m\u001b[38;5;132;01m{\u001b[39;00mx\u001b[38;5;241m.\u001b[39mshape\u001b[38;5;132;01m}\u001b[39;00m\u001b[38;5;124m and \u001b[39m\u001b[38;5;132;01m{\u001b[39;00my\u001b[38;5;241m.\u001b[39mshape\u001b[38;5;132;01m}\u001b[39;00m\u001b[38;5;124m\"\u001b[39m)\n\u001b[1;32m    501\u001b[0m \u001b[38;5;28;01mif\u001b[39;00m x\u001b[38;5;241m.\u001b[39mndim \u001b[38;5;241m>\u001b[39m \u001b[38;5;241m2\u001b[39m \u001b[38;5;129;01mor\u001b[39;00m y\u001b[38;5;241m.\u001b[39mndim \u001b[38;5;241m>\u001b[39m \u001b[38;5;241m2\u001b[39m:\n\u001b[1;32m    502\u001b[0m     \u001b[38;5;28;01mraise\u001b[39;00m \u001b[38;5;167;01mValueError\u001b[39;00m(\u001b[38;5;124mf\u001b[39m\u001b[38;5;124m\"\u001b[39m\u001b[38;5;124mx and y can be no greater than 2D, but have \u001b[39m\u001b[38;5;124m\"\u001b[39m\n\u001b[1;32m    503\u001b[0m                      \u001b[38;5;124mf\u001b[39m\u001b[38;5;124m\"\u001b[39m\u001b[38;5;124mshapes \u001b[39m\u001b[38;5;132;01m{\u001b[39;00mx\u001b[38;5;241m.\u001b[39mshape\u001b[38;5;132;01m}\u001b[39;00m\u001b[38;5;124m and \u001b[39m\u001b[38;5;132;01m{\u001b[39;00my\u001b[38;5;241m.\u001b[39mshape\u001b[38;5;132;01m}\u001b[39;00m\u001b[38;5;124m\"\u001b[39m)\n",
      "\u001b[0;31mValueError\u001b[0m: x and y must have same first dimension, but have shapes (256,) and (3, 256)"
     ]
    },
    {
     "data": {
      "image/png": "[encoded data removed]",
      "text/plain": [
       "<Figure size 1000x1000 with 1 Axes>"
      ]
     },
     "metadata": {},
     "output_type": "display_data"
    }
   ],
   "source": [
    "plt.figure(figsize=(10,10))\n",
    "plt.subplot(221)\n",
    "plot_HF(bm.TROPICAL,bins_HF,fHEATFLUX_F,'fTropical Flaming Heat Flux', r'Heat Flux (kW/m$^2$)',range=(0,128))\n",
    "plt.subplot(222)\n",
    "plot_HF(bm.EXTRA_TROPICAL,'Extra-Tropical Heat Flux', r'Flaming Heat Flux (kW/m$^2$)',range=(0,200))\n",
    "plt.subplot(223)\n",
    "plot_HF(bm.SAVANNA,'Savanna Flaming Heat Flux', r'Heat Flux (kW/m$^2$)',range=(0,300))\n",
    "plt.subplot(224)\n",
    "plot_HF(bm.GRASSLAND,'Grassland Flaming Heat Flux', r'Heat Flux (kW/m$^2$)',range=(0,300))"
   ]
  },
  {
   "cell_type": "code",
   "execution_count": null,
   "id": "9b97c8e6-439d-417b-ae1e-15bd638c6fe8",
   "metadata": {},
   "outputs": [],
   "source": [
    "def plot_Prop(biome,X,C,title,xlabel,range=None):\n",
    "\n",
    "    I = (b==biome)&(np.isnan(X[:,1])==False)\n",
    "    bins, X0 = kde.calc_kde1d(X[I,0],range=range)\n",
    "    bins, X1 = kde.calc_kde1d(X[I,1],range=range)\n",
    "    bins, X2 = kde.calc_kde1d(X[I,2],range=range)\n",
    "\n",
    "    if len(C.shape) == 2:\n",
    "        J = (b==biome)&(np.isnan(C[:,1])==False)\n",
    "        bins, C0 = kde.calc_kde1d(C[J,0],range=range)\n",
    "        bins, C1 = kde.calc_kde1d(C[J,1],range=range)\n",
    "        bins, C2 = kde.calc_kde1d(C[J,2],range=range)\n",
    "    else:\n",
    "        J = (b==biome)&(np.isnan(C)==False)\n",
    "        bins, C0 = kde.calc_kde1d(C[J],range=range)\n",
    "\n",
    "    plt.plot(bins,X0,'b--',label='McBEF (lower)')\n",
    "    plt.plot(bins,X1,'b',  label='McBEF (mode)')\n",
    "    plt.plot(bins,X2,'b--',label='McBEF (upper)')\n",
    "    \n",
    "    if len(C.shape) == 2:                    \n",
    "        plt.plot(bins,C0,'r--',label='Classic (lower)')\n",
    "        plt.plot(bins,C1,'r',  label='Classic (mode)')\n",
    "        plt.plot(bins,C2,'r--',label='Classic (upper)')\n",
    "    else:\n",
    "        plt.plot(bins,C0,'r',  label='Classic')                \n",
    "\n",
    "    plt.grid(), plt.xlabel(xlabel),plt.ylabel('p.d.f'),plt.title(title)\n",
    "    plt.legend(loc='upper right')"
   ]
  },
  {
   "cell_type": "code",
   "execution_count": null,
   "id": "440d22cd-279e-492e-b2d8-d59f38941c35",
   "metadata": {},
   "outputs": [],
   "source": [
    "plt.figure(figsize=(10,10))\n",
    "plt.subplot(221)\n",
    "plot_Prop(bm.TROPICAL,f.Power_f,cPower_f,'Tropical Flaming FRP', 'FRP (MW)',range=(0,20))\n",
    "plt.subplot(222)\n",
    "plot_Prop(bm.EXTRA_TROPICAL,f.Power_f,cPower_f,'Extra-Tropical Flaming FRP', 'FRP (MW)',range=(0,20))\n",
    "plt.subplot(223)\n",
    "plot_Prop(bm.SAVANNA,f.Power_f,cPower_f,'Savanna Flaming FRP', 'FRP (MW)',range=(0,20))\n",
    "plt.subplot(224)\n",
    "plot_Prop(bm.GRASSLAND,f.Power_f,cPower_f,'Grassland Flaming FRP', 'FRP (MW)',range=(0,20))"
   ]
  },
  {
   "cell_type": "code",
   "execution_count": null,
   "id": "db125730-5d1d-4478-92e4-1e1d3ea8adb3",
   "metadata": {},
   "outputs": [],
   "source": [
    "plt.figure(figsize=(10,10))\n",
    "plt.subplot(221)\n",
    "plot_Prop(bm.TROPICAL,f.Area_f,cArea_f,'Tropical Flaming Area',  'Area (m$^2$)',range=(0,500))\n",
    "plt.subplot(222)\n",
    "plot_Prop(bm.EXTRA_TROPICAL,f.Area_f,cArea_f,'Extra-Tropical Flaming Area', 'Area (m$^2$)',range=(0,500))\n",
    "plt.subplot(223)\n",
    "plot_Prop(bm.SAVANNA,f.Area_f,cArea_f,'Savanna Flaming Area', 'Area (m$^2$)',range=(0,500))\n",
    "plt.subplot(224)\n",
    "plot_Prop(bm.GRASSLAND,f.Area_f,cArea_f,'Grassland Flaming Area', 'Area (m$^2$)',range=(0,500))"
   ]
  },
  {
   "cell_type": "code",
   "execution_count": null,
   "id": "12254886-c370-46c4-a594-4005b73cc293",
   "metadata": {},
   "outputs": [],
   "source": []
  }
 ],
 "metadata": {
  "kernelspec": {
   "display_name": "Python [conda env:.conda-xesmf_env]",
   "language": "python",
   "name": "conda-env-.conda-xesmf_env-py"
  },
  "language_info": {
   "codemirror_mode": {
    "name": "ipython",
    "version": 3
   },
   "file_extension": ".py",
   "mimetype": "text/x-python",
   "name": "python",
   "nbconvert_exporter": "python",
   "pygments_lexer": "ipython3",
   "version": "3.11.6"
  }
 },
 "nbformat": 4,
 "nbformat_minor": 5
}
